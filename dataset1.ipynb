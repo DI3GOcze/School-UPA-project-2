{
 "cells": [
  {
   "cell_type": "markdown",
   "metadata": {},
   "source": [
    "# UPA - project 2 - Dataset for data mining 1\n",
    "authors: xkryst02, xkrusi01, xseipe00\n",
    "\n",
    "year: 2022/23"
   ]
  },
  {
   "cell_type": "code",
   "execution_count": null,
   "metadata": {},
   "outputs": [],
   "source": [
    "import config\n",
    "import pandas as pd\n",
    "import numpy as np\n",
    "import matplotlib.pyplot as plt\n",
    "import seaborn as sns\n",
    "from scipy import stats\n",
    "\n",
    "NUMERICS = ['int16', 'int32', 'int64', 'float16', 'float32', 'float64']\n",
    "\n",
    "rawDf = pd.read_csv(config.RAW_DATA_PATH)\n",
    "\n",
    "# Data frame for exploratory analysis\n",
    "df = rawDf.copy()"
   ]
  },
  {
   "cell_type": "markdown",
   "metadata": {},
   "source": [
    "## Irrelevant attributes"
   ]
  },
  {
   "cell_type": "code",
   "execution_count": null,
   "metadata": {},
   "outputs": [],
   "source": [
    "# Delete irrelevant\n",
    "df = df.drop(columns=['Comments', 'Clutch Completion', 'studyName', 'Sample Number', 'Stage'])"
   ]
  },
  {
   "cell_type": "markdown",
   "metadata": {},
   "source": [
    "## Missing values - record ignore"
   ]
  },
  {
   "cell_type": "code",
   "execution_count": null,
   "metadata": {},
   "outputs": [],
   "source": [
    "# Ignore missing values\n",
    "df = df.dropna()"
   ]
  },
  {
   "cell_type": "markdown",
   "metadata": {},
   "source": [
    "## Handle outliers"
   ]
  },
  {
   "cell_type": "code",
   "execution_count": null,
   "metadata": {},
   "outputs": [],
   "source": [
    "# Our dataset doesn't have any outliers, but if it had some, it would delete them with this \n",
    "# Based on abs(z-score) > 3 \n",
    "\n",
    "oldDf = df\n",
    "\n",
    "numericOnly = df.select_dtypes(include=NUMERICS)\n",
    "for column in numericOnly.columns:\n",
    "    wrong = numericOnly[(np.abs(stats.zscore(numericOnly[column])) > 3)]\n",
    "    df = pd.merge(df,wrong, indicator=True, how='outer').query('_merge==\"left_only\"').drop('_merge', axis=1)\n",
    "\n",
    "# Number of deleted records\n",
    "oldDf.shape[0] - df.shape[0]"
   ]
  },
  {
   "cell_type": "markdown",
   "metadata": {},
   "source": [
    "## Discretization of numeric attributes"
   ]
  },
  {
   "cell_type": "code",
   "execution_count": null,
   "metadata": {},
   "outputs": [],
   "source": [
    "# Discretize length attributes\n",
    "columns = ['Culmen Length (mm)', 'Flipper Length (mm)']\n",
    "for column in columns:\n",
    "       binsArray = [df[column].min(), df[column].quantile(.2), df[column].quantile(.4),df[column].quantile(.6), df[column].quantile(.8), df[column].max()]\n",
    "       labelsArray = ['Very Short', 'Short', 'Average', 'Long', 'Very Long']\n",
    "       df[column] = pd.cut(df[column],\n",
    "              bins=binsArray, \n",
    "              labels=labelsArray)"
   ]
  },
  {
   "cell_type": "code",
   "execution_count": null,
   "metadata": {},
   "outputs": [],
   "source": [
    "# Discretize depth attributes\n",
    "columns = ['Culmen Depth (mm)']\n",
    "for column in columns:\n",
    "       binsArray = [df[column].min(), df[column].quantile(.2), df[column].quantile(.4),df[column].quantile(.6), df[column].quantile(.8), df[column].max()]\n",
    "       labelsArray = ['Very Shallow', 'Shallow', 'Average', 'Deep', 'Very Deep']\n",
    "       df[column] = pd.cut(df[column],\n",
    "              bins=binsArray, \n",
    "              labels=labelsArray)"
   ]
  },
  {
   "cell_type": "code",
   "execution_count": null,
   "metadata": {},
   "outputs": [],
   "source": [
    "# Discretize body mass attribute\n",
    "columns = ['Body Mass (g)']\n",
    "for column in columns:\n",
    "       binsArray = [df[column].min(), df[column].quantile(.2), df[column].quantile(.4),df[column].quantile(.6), df[column].quantile(.8), df[column].max()]\n",
    "       labelsArray = ['Very Light', 'Light', 'Average', 'Heavy', 'Very Heavy']\n",
    "       df[column] = pd.cut(df[column],\n",
    "              bins=binsArray, \n",
    "              labels=labelsArray)"
   ]
  },
  {
   "cell_type": "markdown",
   "metadata": {},
   "source": [
    "Trend of species to weight is still visible"
   ]
  },
  {
   "cell_type": "code",
   "execution_count": null,
   "metadata": {},
   "outputs": [],
   "source": [
    "# Discretize body mass attribute\n",
    "columns = ['Delta 15 N (o/oo)', 'Delta 13 C (o/oo)']\n",
    "for column in columns:\n",
    "        binsArray = [df[column].min(), df[column].quantile(.2), df[column].quantile(.4),df[column].quantile(.6), df[column].quantile(.8), df[column].max()]\n",
    "        labelsArray = [\n",
    "            str(round(binsArray[0], 2)) + ' - ' + str(round(binsArray[1], 2)), \n",
    "            str(round(binsArray[1], 2)) + ' - ' + str(round(binsArray[2], 2)), \n",
    "            str(round(binsArray[2], 2)) + ' - ' + str(round(binsArray[3], 2)), \n",
    "            str(round(binsArray[3], 2)) + ' - ' + str(round(binsArray[4], 2)), \n",
    "            str(round(binsArray[4], 2)) + ' - ' + str(round(binsArray[5], 2))\n",
    "        ]\n",
    "        print(labelsArray)\n",
    "        df[column] = pd.cut(df[column],\n",
    "              bins=binsArray, \n",
    "              labels=labelsArray)\n"
   ]
  },
  {
   "cell_type": "markdown",
   "metadata": {},
   "source": [
    "### Check of discretized attributes"
   ]
  },
  {
   "cell_type": "code",
   "execution_count": null,
   "metadata": {},
   "outputs": [],
   "source": [
    "fig, ax = plt.subplots(2,1)\n",
    "ax[0].set_xlabel(' ')\n",
    "sns.kdeplot(ax=ax[0], data = rawDf, x = \"Body Mass (g)\", hue=df.Species.apply(lambda x: x.split(' ', 1)[0]), multiple='layer')\n",
    "sns.histplot(ax=ax[1], data=df, x=\"Body Mass (g)\", hue=df.Species.apply(lambda x: x.split(' ', 1)[0]))\n",
    "plt.show()"
   ]
  },
  {
   "cell_type": "code",
   "execution_count": null,
   "metadata": {},
   "outputs": [],
   "source": [
    "fig, ax = plt.subplots(2,1)\n",
    "ax[0].set_xlabel(' ')\n",
    "sns.kdeplot(ax=ax[0], data = rawDf, x = \"Delta 15 N (o/oo)\", hue=df.Species.apply(lambda x: x.split(' ', 1)[0]), multiple='layer')\n",
    "sns.histplot(ax=ax[1], data=df, x=\"Delta 15 N (o/oo)\", hue=df.Species.apply(lambda x: x.split(' ', 1)[0]))\n",
    "plt.show()"
   ]
  },
  {
   "cell_type": "code",
   "execution_count": null,
   "metadata": {},
   "outputs": [],
   "source": [
    "fig, ax = plt.subplots(2,1)\n",
    "ax[0].set_xlabel(' ')\n",
    "sns.kdeplot(ax=ax[0], data = rawDf, x = \"Delta 13 C (o/oo)\", hue=df.Species.apply(lambda x: x.split(' ', 1)[0]), multiple='layer')\n",
    "sns.histplot(ax=ax[1], data=df, x=\"Delta 13 C (o/oo)\", hue=df.Species.apply(lambda x: x.split(' ', 1)[0]))\n",
    "plt.show()"
   ]
  },
  {
   "cell_type": "code",
   "execution_count": null,
   "metadata": {},
   "outputs": [],
   "source": [
    "fig, ax = plt.subplots(2,1)\n",
    "ax[0].set_xlabel(' ')\n",
    "sns.kdeplot(ax=ax[0], data = rawDf, x = 'Flipper Length (mm)', hue=df.Species.apply(lambda x: x.split(' ', 1)[0]), multiple='layer')\n",
    "sns.histplot(ax=ax[1], data=df, x='Flipper Length (mm)', hue=df.Species.apply(lambda x: x.split(' ', 1)[0]))\n",
    "plt.show()\n"
   ]
  },
  {
   "cell_type": "code",
   "execution_count": null,
   "metadata": {},
   "outputs": [],
   "source": [
    "fig, ax = plt.subplots(2,1)\n",
    "ax[0].set_xlabel(' ')\n",
    "sns.kdeplot(ax=ax[0], data = rawDf, x = 'Culmen Length (mm)', hue=df.Species.apply(lambda x: x.split(' ', 1)[0]), multiple='layer')\n",
    "sns.histplot(ax=ax[1], data=df, x='Culmen Length (mm)', hue=df.Species.apply(lambda x: x.split(' ', 1)[0]))\n",
    "plt.show()\n"
   ]
  },
  {
   "cell_type": "code",
   "execution_count": null,
   "metadata": {},
   "outputs": [],
   "source": [
    "fig, ax = plt.subplots(2,1)\n",
    "ax[0].set_xlabel(' ')\n",
    "sns.kdeplot(ax=ax[0], data = rawDf, x = 'Culmen Depth (mm)', hue=df.Species.apply(lambda x: x.split(' ', 1)[0]), multiple='layer')\n",
    "sns.histplot(ax=ax[1], data=df, x='Culmen Depth (mm)', hue=df.Species.apply(lambda x: x.split(' ', 1)[0]))\n",
    "plt.show()\n"
   ]
  },
  {
   "cell_type": "markdown",
   "metadata": {},
   "source": [
    "Trends of species attributes are still visible to the naked eye, so we can assume, that discretization was successful without huge loss of detail."
   ]
  }
 ],
 "metadata": {
  "kernelspec": {
   "display_name": "Python 3.10.6 64-bit",
   "language": "python",
   "name": "python3"
  },
  "language_info": {
   "codemirror_mode": {
    "name": "ipython",
    "version": 3
   },
   "file_extension": ".py",
   "mimetype": "text/x-python",
   "name": "python",
   "nbconvert_exporter": "python",
   "pygments_lexer": "ipython3",
   "version": "3.10.6"
  },
  "orig_nbformat": 4,
  "vscode": {
   "interpreter": {
    "hash": "916dbcbb3f70747c44a77c7bcd40155683ae19c65e1c03b4aa3499c5328201f1"
   }
  }
 },
 "nbformat": 4,
 "nbformat_minor": 2
}
