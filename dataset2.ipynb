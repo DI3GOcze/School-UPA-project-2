{
 "cells": [
  {
   "cell_type": "markdown",
   "metadata": {},
   "source": [
    "# UPA - project 2 - Dataset for data mining 2\n",
    "authors: xkryst02, xkrusi01, xseipe00\n",
    "\n",
    "year: 2022/23"
   ]
  },
  {
   "cell_type": "code",
   "execution_count": null,
   "metadata": {},
   "outputs": [],
   "source": [
    "import config\n",
    "import pandas as pd\n",
    "import numpy as np\n",
    "import matplotlib.pyplot as plt\n",
    "import seaborn as sns\n",
    "from scipy import stats\n",
    "\n",
    "NUMERICS = ['int16', 'int32', 'int64', 'float16', 'float32', 'float64']\n",
    "\n",
    "rawDf = pd.read_csv(config.RAW_DATA_PATH)\n",
    "\n",
    "# Data frame for exploratory analysis\n",
    "df = rawDf.copy()"
   ]
  },
  {
   "cell_type": "markdown",
   "metadata": {},
   "source": [
    "## Irrelevant attributes"
   ]
  },
  {
   "cell_type": "code",
   "execution_count": null,
   "metadata": {},
   "outputs": [],
   "source": [
    "# Delete irrelevant\n",
    "df = df.drop(columns=['Comments', 'Clutch Completion', 'studyName', 'Sample Number', 'Stage', 'Individual ID', 'Region'])"
   ]
  },
  {
   "cell_type": "markdown",
   "metadata": {},
   "source": [
    "## Missing values - value fill"
   ]
  },
  {
   "cell_type": "code",
   "execution_count": null,
   "metadata": {},
   "outputs": [],
   "source": [
    "#Show missing values\n",
    "print(df.isnull().sum())"
   ]
  },
  {
   "cell_type": "code",
   "execution_count": null,
   "metadata": {},
   "outputs": [],
   "source": [
    "#Replace invalid value '.'\n",
    "df.Sex.replace('.', np.nan, inplace=True)\n",
    "\n",
    "print(df.isnull().sum())"
   ]
  },
  {
   "cell_type": "code",
   "execution_count": null,
   "metadata": {},
   "outputs": [],
   "source": [
    "#Fill missing numerical values with mean\n",
    "for i in df.columns[df.dtypes == float]:\n",
    "    df[i].fillna(df[i].mean(), inplace=True)\n",
    "\n",
    "print(df.isnull().sum())"
   ]
  },
  {
   "cell_type": "code",
   "execution_count": null,
   "metadata": {},
   "outputs": [],
   "source": [
    "#Remove missing categorical values\n",
    "df = df.dropna(subset=[\"Sex\"]) \n",
    "\n",
    "print(df.isnull().sum())"
   ]
  },
  {
   "cell_type": "markdown",
   "metadata": {},
   "source": [
    "## Handle outliers"
   ]
  },
  {
   "cell_type": "code",
   "execution_count": null,
   "metadata": {},
   "outputs": [],
   "source": [
    "# Our dataset doesn't have any outliers, but if it had some, it would delete them with this \n",
    "# Based on abs(z-score) > 3 \n",
    "\n",
    "oldDf = df\n",
    "\n",
    "numericOnly = df.select_dtypes(include=NUMERICS)\n",
    "for column in numericOnly.columns:\n",
    "    wrong = numericOnly[(np.abs(stats.zscore(numericOnly[column])) > 3)]\n",
    "    df = pd.merge(df,wrong, indicator=True, how='outer').query('_merge==\"left_only\"').drop('_merge', axis=1)\n",
    "\n",
    "# Number of deleted records\n",
    "oldDf.shape[0] - df.shape[0]"
   ]
  },
  {
   "cell_type": "markdown",
   "metadata": {},
   "source": [
    "## Convert categoric attributes to numeric"
   ]
  },
  {
   "cell_type": "code",
   "execution_count": null,
   "metadata": {},
   "outputs": [],
   "source": [
    "#Show data types\n",
    "print(df.dtypes)"
   ]
  },
  {
   "cell_type": "code",
   "execution_count": null,
   "metadata": {},
   "outputs": [],
   "source": [
    "#Show data before conversion\n",
    "display(df)"
   ]
  },
  {
   "cell_type": "code",
   "execution_count": null,
   "metadata": {},
   "outputs": [],
   "source": [
    "#Convert categoric attributes to numeric with method 'pd.factorize'\n",
    "df[\"Species\"], species_labels = pd.factorize(df[\"Species\"])\n",
    "df[\"Island\"] = pd.factorize(df[\"Island\"])[0]\n",
    "\n",
    "#Convert categoric attributes to numeric manually with method 'replace'\n",
    "df[\"Sex\"].replace([\"FEMALE\", \"MALE\"], [0, 1], inplace=True)\n",
    "sex_labels = [\"Female\", \"Male\"]\n",
    "\n",
    "#Convert date to datetime format\n",
    "df[\"Date Egg\"] = pd.to_datetime(df[\"Date Egg\"], format=\"%m/%d/%y\")\n",
    "\n",
    "#Show data types after conversion\n",
    "print(df.dtypes)"
   ]
  },
  {
   "cell_type": "code",
   "execution_count": null,
   "metadata": {},
   "outputs": [],
   "source": [
    "#Show data after conversion\n",
    "display(df)"
   ]
  },
  {
   "cell_type": "code",
   "execution_count": null,
   "metadata": {},
   "outputs": [],
   "source": [
    "#Plot data with category names they had before conversion\n",
    "ax = sns.violinplot(data = df, x = \"Species\", y = \"Body Mass (g)\", hue=\"Sex\", split=True)\n",
    "ax.set_xticklabels(species_labels, rotation=-10)\n",
    "handles, _ = ax.get_legend_handles_labels()\n",
    "ax.legend(handles=handles, labels=sex_labels)"
   ]
  },
  {
   "cell_type": "markdown",
   "metadata": {},
   "source": [
    "### Normalize where adequate"
   ]
  },
  {
   "cell_type": "code",
   "execution_count": null,
   "metadata": {},
   "outputs": [],
   "source": [
    "# Columns that are adequate\n",
    "columns = ['Culmen Length (mm)', 'Flipper Length (mm)', 'Culmen Depth (mm)', 'Body Mass (g)', 'Delta 15 N (o/oo)', 'Delta 13 C (o/oo)']\n",
    "\n",
    "# Normalize\n",
    "for column in columns:\n",
    "    df[column] = (df[column] - df[column].min()) / (df[column].max() - df[column].min())\n",
    "\n",
    "# View normalized data\n",
    "display('MIN:',df.min())\n",
    "display('MAX:', df.max())\n",
    "df"
   ]
  }
 ],
 "metadata": {
  "kernelspec": {
   "display_name": "Python 3.10.6 64-bit",
   "language": "python",
   "name": "python3"
  },
  "language_info": {
   "codemirror_mode": {
    "name": "ipython",
    "version": 3
   },
   "file_extension": ".py",
   "mimetype": "text/x-python",
   "name": "python",
   "nbconvert_exporter": "python",
   "pygments_lexer": "ipython3",
   "version": "3.10.6"
  },
  "vscode": {
   "interpreter": {
    "hash": "916dbcbb3f70747c44a77c7bcd40155683ae19c65e1c03b4aa3499c5328201f1"
   }
  }
 },
 "nbformat": 4,
 "nbformat_minor": 2
}
