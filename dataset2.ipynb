{
 "cells": [
  {
   "cell_type": "markdown",
   "metadata": {},
   "source": [
    "# UPA - project 2 - Dataset for data mining 2\n",
    "authors: xkryst02, xkrusi01, xseipe00\n",
    "\n",
    "year: 2022/23"
   ]
  },
  {
   "cell_type": "code",
   "execution_count": null,
   "metadata": {},
   "outputs": [],
   "source": [
    "import config\n",
    "import pandas as pd\n",
    "import numpy as np\n",
    "import matplotlib.pyplot as plt\n",
    "import seaborn as sns\n",
    "from scipy import stats\n",
    "\n",
    "NUMERICS = ['int16', 'int32', 'int64', 'float16', 'float32', 'float64']\n",
    "\n",
    "rawDf = pd.read_csv(config.RAW_DATA_PATH)\n",
    "\n",
    "# Data frame for exploratory analysis\n",
    "df = rawDf.copy()"
   ]
  },
  {
   "cell_type": "markdown",
   "metadata": {},
   "source": [
    "## Irrelevant attributes"
   ]
  },
  {
   "cell_type": "code",
   "execution_count": null,
   "metadata": {},
   "outputs": [],
   "source": [
    "# Delete irrelevant\n",
    "df = df.drop(columns=['Comments', 'Clutch Completion', 'studyName', 'Sample Number', 'Stage'])"
   ]
  },
  {
   "cell_type": "markdown",
   "metadata": {},
   "source": [
    "## Missing values - record ignore"
   ]
  },
  {
   "cell_type": "code",
   "execution_count": null,
   "metadata": {},
   "outputs": [],
   "source": [
    "# Ignore missing values\n",
    "\n",
    "# TODO\n",
    "# TODO\n",
    "# TODO\n",
    "# TODO tohle je potreba udelat nejakou druhou variantou nez ignoraci\n",
    "# TODO\n",
    "# TODO\n",
    "# TODO\n",
    "\n",
    "df = df.dropna() "
   ]
  },
  {
   "cell_type": "markdown",
   "metadata": {},
   "source": [
    "## Handle outliers"
   ]
  },
  {
   "cell_type": "code",
   "execution_count": null,
   "metadata": {},
   "outputs": [],
   "source": [
    "# Our dataset doesn't have any outliers, but if it had some, it would delete them with this \n",
    "# Based on abs(z-score) > 3 \n",
    "\n",
    "oldDf = df\n",
    "\n",
    "numericOnly = df.select_dtypes(include=NUMERICS)\n",
    "for column in numericOnly.columns:\n",
    "    wrong = numericOnly[(np.abs(stats.zscore(numericOnly[column])) > 3)]\n",
    "    df = pd.merge(df,wrong, indicator=True, how='outer').query('_merge==\"left_only\"').drop('_merge', axis=1)\n",
    "\n",
    "# Number of deleted records\n",
    "oldDf.shape[0] - df.shape[0]"
   ]
  },
  {
   "cell_type": "markdown",
   "metadata": {},
   "source": [
    "## Categoric attributes to numeric\n",
    "\n",
    "TODO"
   ]
  },
  {
   "cell_type": "markdown",
   "metadata": {},
   "source": [
    "Trends of species attributes are still visible to the naked eye, so we can assume, that discretization was successful without huge loss of detail."
   ]
  }
 ],
 "metadata": {
  "kernelspec": {
   "display_name": "Python 3.10.6 64-bit",
   "language": "python",
   "name": "python3"
  },
  "language_info": {
   "codemirror_mode": {
    "name": "ipython",
    "version": 3
   },
   "file_extension": ".py",
   "mimetype": "text/x-python",
   "name": "python",
   "nbconvert_exporter": "python",
   "pygments_lexer": "ipython3",
   "version": "3.10.6"
  },
  "orig_nbformat": 4,
  "vscode": {
   "interpreter": {
    "hash": "916dbcbb3f70747c44a77c7bcd40155683ae19c65e1c03b4aa3499c5328201f1"
   }
  }
 },
 "nbformat": 4,
 "nbformat_minor": 2
}
