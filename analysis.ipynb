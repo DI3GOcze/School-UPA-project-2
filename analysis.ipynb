{
 "cells": [
  {
   "cell_type": "markdown",
   "metadata": {},
   "source": [
    "# UPA - project 2 - Exploratory analysis\n",
    "authors: xkryst02, xkrusi01, xseipe00\n",
    "\n",
    "year: 2022/23"
   ]
  },
  {
   "cell_type": "code",
   "execution_count": null,
   "metadata": {},
   "outputs": [],
   "source": [
    "import config\n",
    "import pandas as pd\n",
    "import numpy as np\n",
    "import matplotlib.pyplot as plt\n",
    "import seaborn as sns\n",
    "from scipy import stats\n",
    "\n",
    "NUMERICS = ['int16', 'int32', 'int64', 'float16', 'float32', 'float64']\n",
    "\n",
    "rawDf = pd.read_csv(config.RAW_DATA_PATH)\n",
    "\n",
    "# Data frame for exploratory analysis\n",
    "df = rawDf.copy()\n"
   ]
  },
  {
   "cell_type": "markdown",
   "metadata": {},
   "source": [
    "### Attribute analysis  "
   ]
  },
  {
   "cell_type": "code",
   "execution_count": null,
   "metadata": {},
   "outputs": [],
   "source": [
    "# Data types in dataset \n",
    "df.dtypes"
   ]
  },
  {
   "cell_type": "code",
   "execution_count": null,
   "metadata": {},
   "outputs": [],
   "source": [
    "# Minumum, maximum, mean, median and count of numeric attributes\n",
    "df.describe(percentiles=[0.5])"
   ]
  },
  {
   "cell_type": "code",
   "execution_count": null,
   "metadata": {},
   "outputs": [],
   "source": [
    "# Count of records for all studies\n",
    "df.studyName.value_counts().head()"
   ]
  },
  {
   "cell_type": "code",
   "execution_count": null,
   "metadata": {},
   "outputs": [],
   "source": [
    "# Count of penguins by species\n",
    "df.Species.value_counts().head()"
   ]
  },
  {
   "cell_type": "code",
   "execution_count": null,
   "metadata": {},
   "outputs": [],
   "source": [
    "# Count of penguins by regions\n",
    "df.Region.value_counts().head()\n",
    "# NOTE: All penguins are from Anvers"
   ]
  },
  {
   "cell_type": "code",
   "execution_count": null,
   "metadata": {},
   "outputs": [],
   "source": [
    "# Count of penguins on islands\n",
    "df.Island.value_counts().head()"
   ]
  },
  {
   "cell_type": "code",
   "execution_count": null,
   "metadata": {},
   "outputs": [],
   "source": [
    "# Count of penguins by stage\n",
    "df.Stage.value_counts().head()\n",
    "# NOTE: all penguins are adults"
   ]
  },
  {
   "cell_type": "code",
   "execution_count": null,
   "metadata": {},
   "outputs": [],
   "source": [
    "# Count of penguins by sex\n",
    "df.Sex.value_counts().head()"
   ]
  },
  {
   "cell_type": "code",
   "execution_count": null,
   "metadata": {},
   "outputs": [],
   "source": [
    "# Remove false value in Sex attribute\n",
    "df.Sex.replace('.', np.nan, inplace=True)\n",
    "pass"
   ]
  },
  {
   "cell_type": "code",
   "execution_count": null,
   "metadata": {},
   "outputs": [],
   "source": [
    "# Dependency of sex to culmen length\n",
    "sns.boxplot( x=df['Sex'], y=df['Culmen Length (mm)'])\n",
    "plt.show()"
   ]
  },
  {
   "cell_type": "code",
   "execution_count": null,
   "metadata": {},
   "outputs": [],
   "source": [
    "# Dependency of sex to Flipper length\n",
    "sns.violinplot( x=df['Sex'], y=df['Flipper Length (mm)'])\n",
    "plt.show()"
   ]
  },
  {
   "cell_type": "code",
   "execution_count": null,
   "metadata": {},
   "outputs": [],
   "source": [
    "# Dependency of culmen depth to species and body mass\n",
    "sns.jointplot(data=df, x=\"Body Mass (g)\", y=\"Culmen Depth (mm)\", hue=df.Species.apply(lambda x: x.split(' ', 1)[0]))\n",
    "plt.show()"
   ]
  },
  {
   "cell_type": "code",
   "execution_count": null,
   "metadata": {},
   "outputs": [],
   "source": [
    "# Dependency of body mass to flipper length\n",
    "sns.regplot(data = df, x = \"Body Mass (g)\", y = \"Flipper Length (mm)\")\n",
    "plt.show()"
   ]
  },
  {
   "cell_type": "code",
   "execution_count": null,
   "metadata": {},
   "outputs": [],
   "source": [
    "# Dependency of body mass to species\n",
    "sns.kdeplot(data = df, x = \"Body Mass (g)\", hue=df.Species.apply(lambda x: x.split(' ', 1)[0]), multiple='layer')\n",
    "plt.show()"
   ]
  },
  {
   "cell_type": "markdown",
   "metadata": {},
   "source": [
    "## Outliers"
   ]
  },
  {
   "cell_type": "code",
   "execution_count": null,
   "metadata": {},
   "outputs": [],
   "source": [
    "# Find outliers based on z-score\n",
    "numericOnly = df.select_dtypes(include=NUMERICS).dropna()\n",
    "for column in numericOnly.columns:\n",
    "    print(numericOnly[(np.abs(stats.zscore(numericOnly[column])) > 3)].shape)\n",
    "# Our data set doesn't have any outliers"
   ]
  },
  {
   "cell_type": "markdown",
   "metadata": {},
   "source": [
    "## Analysis of missing values"
   ]
  },
  {
   "cell_type": "code",
   "execution_count": null,
   "metadata": {},
   "outputs": [],
   "source": [
    "# Number of record with at least one empty value\n",
    "df.isna().sum().sum()"
   ]
  },
  {
   "cell_type": "code",
   "execution_count": null,
   "metadata": {},
   "outputs": [],
   "source": [
    "# Empty values in attributes\n",
    "df.isna().sum()"
   ]
  },
  {
   "cell_type": "code",
   "execution_count": null,
   "metadata": {},
   "outputs": [],
   "source": [
    "# Count of empty values {number of empty values: record count}\n",
    "counter = dict()\n",
    "for a, b in df.isnull().iterrows():\n",
    "    count = b.sum()\n",
    "    if count in counter :\n",
    "        counter[count] += 1\n",
    "    else:\n",
    "        counter[count] = 1\n",
    "\n",
    "counter"
   ]
  },
  {
   "cell_type": "markdown",
   "metadata": {},
   "source": [
    "## Corelation analysis"
   ]
  },
  {
   "cell_type": "code",
   "execution_count": null,
   "metadata": {},
   "outputs": [],
   "source": [
    "# Pearson correlation coefficient\n",
    "pearson = df.corr(method='pearson', numeric_only=True)\n",
    "pearson"
   ]
  },
  {
   "cell_type": "code",
   "execution_count": null,
   "metadata": {},
   "outputs": [],
   "source": [
    "# Spearman correlation coefficient\n",
    "spearman = df.corr(method='spearman', numeric_only=True)\n",
    "spearman"
   ]
  },
  {
   "cell_type": "code",
   "execution_count": null,
   "metadata": {},
   "outputs": [],
   "source": [
    "# Heat map based on pearson correlation coefficient\n",
    "sns.heatmap(pearson, xticklabels=pearson.columns, yticklabels=pearson.columns)\n",
    "plt.show()"
   ]
  },
  {
   "cell_type": "code",
   "execution_count": null,
   "metadata": {},
   "outputs": [],
   "source": [
    "# Heat map based on spearman correlation coefficient\n",
    "sns.heatmap(spearman, xticklabels=spearman.columns, yticklabels=spearman.columns)\n",
    "plt.show()"
   ]
  }
 ],
 "metadata": {
  "kernelspec": {
   "display_name": "Python 3 (ipykernel)",
   "language": "python",
   "name": "python3"
  },
  "language_info": {
   "codemirror_mode": {
    "name": "ipython",
    "version": 3
   },
   "file_extension": ".py",
   "mimetype": "text/x-python",
   "name": "python",
   "nbconvert_exporter": "python",
   "pygments_lexer": "ipython3",
   "version": "3.10.6"
  },
  "vscode": {
   "interpreter": {
    "hash": "916dbcbb3f70747c44a77c7bcd40155683ae19c65e1c03b4aa3499c5328201f1"
   }
  }
 },
 "nbformat": 4,
 "nbformat_minor": 2
}
